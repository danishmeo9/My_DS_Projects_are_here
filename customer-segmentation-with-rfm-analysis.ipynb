{
 "cells": [
  {
   "cell_type": "markdown",
   "metadata": {
    "papermill": {
     "duration": 0.026806,
     "end_time": "2021-03-19T13:38:04.433482",
     "exception": false,
     "start_time": "2021-03-19T13:38:04.406676",
     "status": "completed"
    },
    "tags": []
   },
   "source": [
    "# 1.Introduction"
   ]
  },
  {
   "cell_type": "markdown",
   "metadata": {
    "papermill": {
     "duration": 0.023747,
     "end_time": "2021-03-19T13:38:04.484158",
     "exception": false,
     "start_time": "2021-03-19T13:38:04.460411",
     "status": "completed"
    },
    "tags": []
   },
   "source": [
    "## 1.1 Business Problem"
   ]
  },
  {
   "cell_type": "markdown",
   "metadata": {
    "papermill": {
     "duration": 0.023569,
     "end_time": "2021-03-19T13:38:04.531712",
     "exception": false,
     "start_time": "2021-03-19T13:38:04.508143",
     "status": "completed"
    },
    "tags": []
   },
   "source": [
    "An e-commerce company aims to separate its customers into different segments and implement a market strategy according to those segments.\n",
    "\n",
    "In order to achieve this goal, purchasing actions of different customers will be clarified and customers will be grouped according to those actions\n",
    "\n",
    "__Introduction to the Dataset__\n",
    "\n",
    "https://archive.ics.uci.edu/ml/datasets/Online+Retail+II\n",
    "\n",
    "The Online Retail II dataset contains sales information for a UK-based location that includes sales between 01/12/2009 and 09/12/2011.\n",
    "\n",
    "This company sells souvenirs. It can think like promotional products.\n",
    "\n",
    "Most of their customers are wholesalers.\n",
    "\n",
    "__Variables__\n",
    "\n",
    "- __InvoiceNo:__ Invoice number. Unique number for each transaction, namely invoice. If this code starts with C, it indicates that the transaction has been canceled.\n",
    "- __StockCode:__ Product code. Unique number for each product.\n",
    "- __Description:__ Name of the product\n",
    "- __Quantity:__ Quantity of the product. It defines how many products in the invoices are sold.\n",
    "- __InvoiceDate:__ Invoice date and time.\n",
    "- __UnitPrice:__ Ürün fiyatı (Sterlin cinsinden)\n",
    "- __CustomerID:__ Unique customer number\n",
    "- __Country:__ Country name. The country where the customer lives.\n",
    "\n",
    "- P.S: Excel Datasheet between the years 2010-2011 were used in the analysis."
   ]
  },
  {
   "cell_type": "markdown",
   "metadata": {
    "papermill": {
     "duration": 0.023334,
     "end_time": "2021-03-19T13:38:04.581326",
     "exception": false,
     "start_time": "2021-03-19T13:38:04.557992",
     "status": "completed"
    },
    "tags": []
   },
   "source": [
    "## 1.2 Recency, Frequency and Monetary Analysis(RFM)"
   ]
  },
  {
   "cell_type": "markdown",
   "metadata": {
    "papermill": {
     "duration": 0.023341,
     "end_time": "2021-03-19T13:38:04.628640",
     "exception": false,
     "start_time": "2021-03-19T13:38:04.605299",
     "status": "completed"
    },
    "tags": []
   },
   "source": [
    "RFM is a method used for analyzing customer value. It is commonly used in database marketing and direct marketing and has received particular attention in retail and professional services industries.\n",
    "\n",
    "* RFM stands for the three dimensions:\n",
    "\n",
    "    __Recency__ – How recently did the customer purchase?\n",
    "    \n",
    "    __Frequency__ – How often do they purchase?\n",
    "    \n",
    "    __Monetary__ – How much do they spend?\n",
    "    \n",
    "‘RFM (Market Research)’ (2020) Wikipedia. Available at: https://en.wikipedia.org/wiki/RFM_(market_research)"
   ]
  },
  {
   "cell_type": "markdown",
   "metadata": {
    "papermill": {
     "duration": 0.023546,
     "end_time": "2021-03-19T13:38:04.676383",
     "exception": false,
     "start_time": "2021-03-19T13:38:04.652837",
     "status": "completed"
    },
    "tags": []
   },
   "source": [
    "## 1.3 Import Libraries"
   ]
  },
  {
   "cell_type": "code",
   "execution_count": 1,
   "metadata": {
    "execution": {
     "iopub.execute_input": "2021-03-19T13:38:04.730902Z",
     "iopub.status.busy": "2021-03-19T13:38:04.730150Z",
     "iopub.status.idle": "2021-03-19T13:38:04.731515Z",
     "shell.execute_reply": "2021-03-19T13:38:04.732204Z"
    },
    "papermill": {
     "duration": 0.032193,
     "end_time": "2021-03-19T13:38:04.732424",
     "exception": false,
     "start_time": "2021-03-19T13:38:04.700231",
     "status": "completed"
    },
    "tags": []
   },
   "outputs": [],
   "source": [
    "# Data manipulation and linear algebra\n",
    "import pandas as pd\n",
    "# Date\n",
    "import datetime as dt\n",
    "# Settings\n",
    "import warnings"
   ]
  },
  {
   "cell_type": "markdown",
   "metadata": {
    "papermill": {
     "duration": 0.023371,
     "end_time": "2021-03-19T13:38:04.780074",
     "exception": false,
     "start_time": "2021-03-19T13:38:04.756703",
     "status": "completed"
    },
    "tags": []
   },
   "source": [
    "## 1.4 Read Data"
   ]
  },
  {
   "cell_type": "code",
   "execution_count": 2,
   "metadata": {
    "execution": {
     "iopub.execute_input": "2021-03-19T13:38:04.832455Z",
     "iopub.status.busy": "2021-03-19T13:38:04.831525Z",
     "iopub.status.idle": "2021-03-19T13:38:12.702968Z",
     "shell.execute_reply": "2021-03-19T13:38:12.700891Z"
    },
    "papermill": {
     "duration": 7.898845,
     "end_time": "2021-03-19T13:38:12.703138",
     "exception": false,
     "start_time": "2021-03-19T13:38:04.804293",
     "status": "completed"
    },
    "tags": []
   },
   "outputs": [],
   "source": [
    "df = pd.read_csv('../input/online-retail-ii-uci/online_retail_II.csv')"
   ]
  },
  {
   "cell_type": "markdown",
   "metadata": {
    "papermill": {
     "duration": 0.023215,
     "end_time": "2021-03-19T13:38:12.750572",
     "exception": false,
     "start_time": "2021-03-19T13:38:12.727357",
     "status": "completed"
    },
    "tags": []
   },
   "source": [
    "# 2. Overview"
   ]
  },
  {
   "cell_type": "code",
   "execution_count": 3,
   "metadata": {
    "execution": {
     "iopub.execute_input": "2021-03-19T13:38:12.809674Z",
     "iopub.status.busy": "2021-03-19T13:38:12.808914Z",
     "iopub.status.idle": "2021-03-19T13:38:13.404781Z",
     "shell.execute_reply": "2021-03-19T13:38:13.404052Z"
    },
    "papermill": {
     "duration": 0.630495,
     "end_time": "2021-03-19T13:38:13.404912",
     "exception": false,
     "start_time": "2021-03-19T13:38:12.774417",
     "status": "completed"
    },
    "tags": []
   },
   "outputs": [
    {
     "name": "stdout",
     "output_type": "stream",
     "text": [
      "<class 'pandas.core.frame.DataFrame'>\n",
      "RangeIndex: 1067371 entries, 0 to 1067370\n",
      "Data columns (total 8 columns):\n",
      " #   Column       Non-Null Count    Dtype  \n",
      "---  ------       --------------    -----  \n",
      " 0   Invoice      1067371 non-null  object \n",
      " 1   StockCode    1067371 non-null  object \n",
      " 2   Description  1062989 non-null  object \n",
      " 3   Quantity     1067371 non-null  int64  \n",
      " 4   InvoiceDate  1067371 non-null  object \n",
      " 5   Price        1067371 non-null  float64\n",
      " 6   Customer ID  824364 non-null   float64\n",
      " 7   Country      1067371 non-null  object \n",
      "dtypes: float64(2), int64(1), object(5)\n",
      "memory usage: 65.1+ MB\n"
     ]
    }
   ],
   "source": [
    "df.info()"
   ]
  },
  {
   "cell_type": "code",
   "execution_count": 4,
   "metadata": {
    "execution": {
     "iopub.execute_input": "2021-03-19T13:38:13.468469Z",
     "iopub.status.busy": "2021-03-19T13:38:13.467712Z",
     "iopub.status.idle": "2021-03-19T13:38:13.483385Z",
     "shell.execute_reply": "2021-03-19T13:38:13.482512Z"
    },
    "papermill": {
     "duration": 0.053474,
     "end_time": "2021-03-19T13:38:13.483519",
     "exception": false,
     "start_time": "2021-03-19T13:38:13.430045",
     "status": "completed"
    },
    "tags": []
   },
   "outputs": [
    {
     "data": {
      "text/html": [
       "<div>\n",
       "<style scoped>\n",
       "    .dataframe tbody tr th:only-of-type {\n",
       "        vertical-align: middle;\n",
       "    }\n",
       "\n",
       "    .dataframe tbody tr th {\n",
       "        vertical-align: top;\n",
       "    }\n",
       "\n",
       "    .dataframe thead th {\n",
       "        text-align: right;\n",
       "    }\n",
       "</style>\n",
       "<table border=\"1\" class=\"dataframe\">\n",
       "  <thead>\n",
       "    <tr style=\"text-align: right;\">\n",
       "      <th></th>\n",
       "      <th>Invoice</th>\n",
       "      <th>StockCode</th>\n",
       "      <th>Description</th>\n",
       "      <th>Quantity</th>\n",
       "      <th>InvoiceDate</th>\n",
       "      <th>Price</th>\n",
       "      <th>Customer ID</th>\n",
       "      <th>Country</th>\n",
       "    </tr>\n",
       "  </thead>\n",
       "  <tbody>\n",
       "    <tr>\n",
       "      <th>0</th>\n",
       "      <td>489434</td>\n",
       "      <td>85048</td>\n",
       "      <td>15CM CHRISTMAS GLASS BALL 20 LIGHTS</td>\n",
       "      <td>12</td>\n",
       "      <td>2009-12-01 07:45:00</td>\n",
       "      <td>6.95</td>\n",
       "      <td>13085.0</td>\n",
       "      <td>United Kingdom</td>\n",
       "    </tr>\n",
       "    <tr>\n",
       "      <th>1</th>\n",
       "      <td>489434</td>\n",
       "      <td>79323P</td>\n",
       "      <td>PINK CHERRY LIGHTS</td>\n",
       "      <td>12</td>\n",
       "      <td>2009-12-01 07:45:00</td>\n",
       "      <td>6.75</td>\n",
       "      <td>13085.0</td>\n",
       "      <td>United Kingdom</td>\n",
       "    </tr>\n",
       "    <tr>\n",
       "      <th>2</th>\n",
       "      <td>489434</td>\n",
       "      <td>79323W</td>\n",
       "      <td>WHITE CHERRY LIGHTS</td>\n",
       "      <td>12</td>\n",
       "      <td>2009-12-01 07:45:00</td>\n",
       "      <td>6.75</td>\n",
       "      <td>13085.0</td>\n",
       "      <td>United Kingdom</td>\n",
       "    </tr>\n",
       "    <tr>\n",
       "      <th>3</th>\n",
       "      <td>489434</td>\n",
       "      <td>22041</td>\n",
       "      <td>RECORD FRAME 7\" SINGLE SIZE</td>\n",
       "      <td>48</td>\n",
       "      <td>2009-12-01 07:45:00</td>\n",
       "      <td>2.10</td>\n",
       "      <td>13085.0</td>\n",
       "      <td>United Kingdom</td>\n",
       "    </tr>\n",
       "    <tr>\n",
       "      <th>4</th>\n",
       "      <td>489434</td>\n",
       "      <td>21232</td>\n",
       "      <td>STRAWBERRY CERAMIC TRINKET BOX</td>\n",
       "      <td>24</td>\n",
       "      <td>2009-12-01 07:45:00</td>\n",
       "      <td>1.25</td>\n",
       "      <td>13085.0</td>\n",
       "      <td>United Kingdom</td>\n",
       "    </tr>\n",
       "  </tbody>\n",
       "</table>\n",
       "</div>"
      ],
      "text/plain": [
       "  Invoice StockCode                          Description  Quantity  \\\n",
       "0  489434     85048  15CM CHRISTMAS GLASS BALL 20 LIGHTS        12   \n",
       "1  489434    79323P                   PINK CHERRY LIGHTS        12   \n",
       "2  489434    79323W                  WHITE CHERRY LIGHTS        12   \n",
       "3  489434     22041         RECORD FRAME 7\" SINGLE SIZE         48   \n",
       "4  489434     21232       STRAWBERRY CERAMIC TRINKET BOX        24   \n",
       "\n",
       "           InvoiceDate  Price  Customer ID         Country  \n",
       "0  2009-12-01 07:45:00   6.95      13085.0  United Kingdom  \n",
       "1  2009-12-01 07:45:00   6.75      13085.0  United Kingdom  \n",
       "2  2009-12-01 07:45:00   6.75      13085.0  United Kingdom  \n",
       "3  2009-12-01 07:45:00   2.10      13085.0  United Kingdom  \n",
       "4  2009-12-01 07:45:00   1.25      13085.0  United Kingdom  "
      ]
     },
     "execution_count": 4,
     "metadata": {},
     "output_type": "execute_result"
    }
   ],
   "source": [
    "df.head()"
   ]
  },
  {
   "cell_type": "markdown",
   "metadata": {
    "_cell_guid": "79c7e3d0-c299-4dcb-8224-4455121ee9b0",
    "_uuid": "d629ff2d2480ee46fbb7e2d37f6b5fab8052498a",
    "collapsed": true,
    "papermill": {
     "duration": 0.025014,
     "end_time": "2021-03-19T13:38:13.535881",
     "exception": false,
     "start_time": "2021-03-19T13:38:13.510867",
     "status": "completed"
    },
    "tags": []
   },
   "source": [
    "# 3. Data Preprocessing"
   ]
  },
  {
   "cell_type": "code",
   "execution_count": 5,
   "metadata": {
    "execution": {
     "iopub.execute_input": "2021-03-19T13:38:13.710040Z",
     "iopub.status.busy": "2021-03-19T13:38:13.708847Z",
     "iopub.status.idle": "2021-03-19T13:38:15.077019Z",
     "shell.execute_reply": "2021-03-19T13:38:15.076338Z"
    },
    "papermill": {
     "duration": 1.51571,
     "end_time": "2021-03-19T13:38:15.077155",
     "exception": false,
     "start_time": "2021-03-19T13:38:13.561445",
     "status": "completed"
    },
    "tags": []
   },
   "outputs": [],
   "source": [
    "# Removing returned products (Invoice numbers starting with C) from the data set\n",
    "df = df[~df[\"Invoice\"].str.contains(\"C\", na = False)]\n",
    "# Removing missing values from the dataset\n",
    "df.dropna(inplace = True)"
   ]
  },
  {
   "cell_type": "markdown",
   "metadata": {
    "papermill": {
     "duration": 0.025333,
     "end_time": "2021-03-19T13:38:15.128345",
     "exception": false,
     "start_time": "2021-03-19T13:38:15.103012",
     "status": "completed"
    },
    "tags": []
   },
   "source": [
    "# 4. RFM Analysis"
   ]
  },
  {
   "cell_type": "markdown",
   "metadata": {
    "papermill": {
     "duration": 0.025302,
     "end_time": "2021-03-19T13:38:15.179314",
     "exception": false,
     "start_time": "2021-03-19T13:38:15.154012",
     "status": "completed"
    },
    "tags": []
   },
   "source": [
    "## 4.1 Recency"
   ]
  },
  {
   "cell_type": "markdown",
   "metadata": {
    "papermill": {
     "duration": 0.025105,
     "end_time": "2021-03-19T13:38:15.230164",
     "exception": false,
     "start_time": "2021-03-19T13:38:15.205059",
     "status": "completed"
    },
    "tags": []
   },
   "source": [
    "In order to find the recency value of each customer, we need to determine the last invoice date as the current date and subtract the last purchasing date of each customer from this date."
   ]
  },
  {
   "cell_type": "code",
   "execution_count": 6,
   "metadata": {
    "execution": {
     "iopub.execute_input": "2021-03-19T13:38:15.375088Z",
     "iopub.status.busy": "2021-03-19T13:38:15.373577Z",
     "iopub.status.idle": "2021-03-19T13:38:15.411605Z",
     "shell.execute_reply": "2021-03-19T13:38:15.410891Z"
    },
    "papermill": {
     "duration": 0.155768,
     "end_time": "2021-03-19T13:38:15.411736",
     "exception": false,
     "start_time": "2021-03-19T13:38:15.255968",
     "status": "completed"
    },
    "tags": []
   },
   "outputs": [
    {
     "data": {
      "text/plain": [
       "'2011-12-09 12:50:00'"
      ]
     },
     "execution_count": 6,
     "metadata": {},
     "output_type": "execute_result"
    }
   ],
   "source": [
    "df[\"InvoiceDate\"].max() # Last invoice date"
   ]
  },
  {
   "cell_type": "code",
   "execution_count": 7,
   "metadata": {
    "execution": {
     "iopub.execute_input": "2021-03-19T13:38:15.470731Z",
     "iopub.status.busy": "2021-03-19T13:38:15.469997Z",
     "iopub.status.idle": "2021-03-19T13:38:15.473623Z",
     "shell.execute_reply": "2021-03-19T13:38:15.474139Z"
    },
    "papermill": {
     "duration": 0.035955,
     "end_time": "2021-03-19T13:38:15.474318",
     "exception": false,
     "start_time": "2021-03-19T13:38:15.438363",
     "status": "completed"
    },
    "tags": []
   },
   "outputs": [],
   "source": [
    "today_date = dt.datetime(2011,12,9) # last invoice date is assigned to today_date variable"
   ]
  },
  {
   "cell_type": "code",
   "execution_count": 8,
   "metadata": {
    "execution": {
     "iopub.execute_input": "2021-03-19T13:38:15.533536Z",
     "iopub.status.busy": "2021-03-19T13:38:15.532585Z",
     "iopub.status.idle": "2021-03-19T13:38:15.545308Z",
     "shell.execute_reply": "2021-03-19T13:38:15.544632Z"
    },
    "papermill": {
     "duration": 0.044611,
     "end_time": "2021-03-19T13:38:15.545465",
     "exception": false,
     "start_time": "2021-03-19T13:38:15.500854",
     "status": "completed"
    },
    "tags": []
   },
   "outputs": [],
   "source": [
    "# The type of Customer ID variable needs to be turned into an integer for following commands.\n",
    "df[\"Customer ID\"] = df[\"Customer ID\"].astype(int) "
   ]
  },
  {
   "cell_type": "code",
   "execution_count": 9,
   "metadata": {
    "execution": {
     "iopub.execute_input": "2021-03-19T13:38:15.651661Z",
     "iopub.status.busy": "2021-03-19T13:38:15.620017Z",
     "iopub.status.idle": "2021-03-19T13:38:15.836282Z",
     "shell.execute_reply": "2021-03-19T13:38:15.835288Z"
    },
    "papermill": {
     "duration": 0.264334,
     "end_time": "2021-03-19T13:38:15.836440",
     "exception": false,
     "start_time": "2021-03-19T13:38:15.572106",
     "status": "completed"
    },
    "tags": []
   },
   "outputs": [],
   "source": [
    "# The type of InvoiceDate variable needs to be turned into datetime for following commands.\n",
    "df[\"InvoiceDate\"] = pd.to_datetime(df[\"InvoiceDate\"])"
   ]
  },
  {
   "cell_type": "code",
   "execution_count": 10,
   "metadata": {
    "execution": {
     "iopub.execute_input": "2021-03-19T13:38:15.902600Z",
     "iopub.status.busy": "2021-03-19T13:38:15.901755Z",
     "iopub.status.idle": "2021-03-19T13:38:16.011186Z",
     "shell.execute_reply": "2021-03-19T13:38:16.011783Z"
    },
    "papermill": {
     "duration": 0.14867,
     "end_time": "2021-03-19T13:38:16.011964",
     "exception": false,
     "start_time": "2021-03-19T13:38:15.863294",
     "status": "completed"
    },
    "tags": []
   },
   "outputs": [
    {
     "data": {
      "text/plain": [
       "Customer ID\n",
       "12346    324\n",
       "12347      1\n",
       "12348     74\n",
       "12349     17\n",
       "12350    309\n",
       "Name: Recency, dtype: int64"
      ]
     },
     "execution_count": 10,
     "metadata": {},
     "output_type": "execute_result"
    }
   ],
   "source": [
    "# Grouping the last invoice dates according to the Customer ID variable, subtracting them from today_date, and assigning them as recency\n",
    "recency = (today_date - df.groupby(\"Customer ID\").agg({\"InvoiceDate\":\"max\"}))\n",
    "# Rename column name as Recency\n",
    "recency.rename(columns = {\"InvoiceDate\":\"Recency\"}, inplace = True)\n",
    "# Change the values to day format\n",
    "recency_df = recency[\"Recency\"].apply(lambda x: x.days)\n",
    "recency_df.head()\n"
   ]
  },
  {
   "cell_type": "markdown",
   "metadata": {
    "papermill": {
     "duration": 0.027405,
     "end_time": "2021-03-19T13:38:16.066376",
     "exception": false,
     "start_time": "2021-03-19T13:38:16.038971",
     "status": "completed"
    },
    "tags": []
   },
   "source": [
    "## 4.2 Frequency"
   ]
  },
  {
   "cell_type": "markdown",
   "metadata": {
    "papermill": {
     "duration": 0.026818,
     "end_time": "2021-03-19T13:38:16.120359",
     "exception": false,
     "start_time": "2021-03-19T13:38:16.093541",
     "status": "completed"
    },
    "tags": []
   },
   "source": [
    "In order to find the frequency value of each customer, we need to determine how many times the customers make purchases."
   ]
  },
  {
   "cell_type": "code",
   "execution_count": 11,
   "metadata": {
    "execution": {
     "iopub.execute_input": "2021-03-19T13:38:16.183002Z",
     "iopub.status.busy": "2021-03-19T13:38:16.182149Z",
     "iopub.status.idle": "2021-03-19T13:38:16.274411Z",
     "shell.execute_reply": "2021-03-19T13:38:16.273674Z"
    },
    "papermill": {
     "duration": 0.127239,
     "end_time": "2021-03-19T13:38:16.274540",
     "exception": false,
     "start_time": "2021-03-19T13:38:16.147301",
     "status": "completed"
    },
    "tags": []
   },
   "outputs": [
    {
     "data": {
      "text/html": [
       "<div>\n",
       "<style scoped>\n",
       "    .dataframe tbody tr th:only-of-type {\n",
       "        vertical-align: middle;\n",
       "    }\n",
       "\n",
       "    .dataframe tbody tr th {\n",
       "        vertical-align: top;\n",
       "    }\n",
       "\n",
       "    .dataframe thead th {\n",
       "        text-align: right;\n",
       "    }\n",
       "</style>\n",
       "<table border=\"1\" class=\"dataframe\">\n",
       "  <thead>\n",
       "    <tr style=\"text-align: right;\">\n",
       "      <th></th>\n",
       "      <th>Frequency</th>\n",
       "    </tr>\n",
       "    <tr>\n",
       "      <th>Customer ID</th>\n",
       "      <th></th>\n",
       "    </tr>\n",
       "  </thead>\n",
       "  <tbody>\n",
       "    <tr>\n",
       "      <th>12346</th>\n",
       "      <td>12</td>\n",
       "    </tr>\n",
       "    <tr>\n",
       "      <th>12347</th>\n",
       "      <td>8</td>\n",
       "    </tr>\n",
       "    <tr>\n",
       "      <th>12348</th>\n",
       "      <td>5</td>\n",
       "    </tr>\n",
       "    <tr>\n",
       "      <th>12349</th>\n",
       "      <td>4</td>\n",
       "    </tr>\n",
       "    <tr>\n",
       "      <th>12350</th>\n",
       "      <td>1</td>\n",
       "    </tr>\n",
       "  </tbody>\n",
       "</table>\n",
       "</div>"
      ],
      "text/plain": [
       "             Frequency\n",
       "Customer ID           \n",
       "12346               12\n",
       "12347                8\n",
       "12348                5\n",
       "12349                4\n",
       "12350                1"
      ]
     },
     "execution_count": 11,
     "metadata": {},
     "output_type": "execute_result"
    }
   ],
   "source": [
    "# Grouping unique values of invoice date according to customer_id variable and assigning them to freq_df variable\n",
    "freq_df = df.groupby(\"Customer ID\").agg({\"InvoiceDate\":\"nunique\"}) \n",
    "# Rename column name as Frequency\n",
    "freq_df.rename(columns={\"InvoiceDate\": \"Frequency\"}, inplace=True)\n",
    "freq_df.head()"
   ]
  },
  {
   "cell_type": "markdown",
   "metadata": {
    "papermill": {
     "duration": 0.027027,
     "end_time": "2021-03-19T13:38:16.329509",
     "exception": false,
     "start_time": "2021-03-19T13:38:16.302482",
     "status": "completed"
    },
    "tags": []
   },
   "source": [
    "## 4.3 Monetary"
   ]
  },
  {
   "cell_type": "markdown",
   "metadata": {
    "papermill": {
     "duration": 0.027506,
     "end_time": "2021-03-19T13:38:16.384644",
     "exception": false,
     "start_time": "2021-03-19T13:38:16.357138",
     "status": "completed"
    },
    "tags": []
   },
   "source": [
    "In order to find the monetary value of each customer, we need to determine how much do the customers spend on purchases"
   ]
  },
  {
   "cell_type": "code",
   "execution_count": 12,
   "metadata": {
    "execution": {
     "iopub.execute_input": "2021-03-19T13:38:16.448177Z",
     "iopub.status.busy": "2021-03-19T13:38:16.447379Z",
     "iopub.status.idle": "2021-03-19T13:38:16.456405Z",
     "shell.execute_reply": "2021-03-19T13:38:16.455803Z"
    },
    "papermill": {
     "duration": 0.044138,
     "end_time": "2021-03-19T13:38:16.456533",
     "exception": false,
     "start_time": "2021-03-19T13:38:16.412395",
     "status": "completed"
    },
    "tags": []
   },
   "outputs": [],
   "source": [
    "# Multiplying the prices and quantities of purchased products and assigning them to the total price variable\n",
    "df[\"TotalPrice\"] = df[\"Quantity\"] * df[\"Price\"]"
   ]
  },
  {
   "cell_type": "code",
   "execution_count": 13,
   "metadata": {
    "execution": {
     "iopub.execute_input": "2021-03-19T13:38:16.521584Z",
     "iopub.status.busy": "2021-03-19T13:38:16.520812Z",
     "iopub.status.idle": "2021-03-19T13:38:16.545876Z",
     "shell.execute_reply": "2021-03-19T13:38:16.545167Z"
    },
    "papermill": {
     "duration": 0.061644,
     "end_time": "2021-03-19T13:38:16.546019",
     "exception": false,
     "start_time": "2021-03-19T13:38:16.484375",
     "status": "completed"
    },
    "tags": []
   },
   "outputs": [
    {
     "data": {
      "text/html": [
       "<div>\n",
       "<style scoped>\n",
       "    .dataframe tbody tr th:only-of-type {\n",
       "        vertical-align: middle;\n",
       "    }\n",
       "\n",
       "    .dataframe tbody tr th {\n",
       "        vertical-align: top;\n",
       "    }\n",
       "\n",
       "    .dataframe thead th {\n",
       "        text-align: right;\n",
       "    }\n",
       "</style>\n",
       "<table border=\"1\" class=\"dataframe\">\n",
       "  <thead>\n",
       "    <tr style=\"text-align: right;\">\n",
       "      <th></th>\n",
       "      <th>Monetary</th>\n",
       "    </tr>\n",
       "    <tr>\n",
       "      <th>Customer ID</th>\n",
       "      <th></th>\n",
       "    </tr>\n",
       "  </thead>\n",
       "  <tbody>\n",
       "    <tr>\n",
       "      <th>12346</th>\n",
       "      <td>77556.46</td>\n",
       "    </tr>\n",
       "    <tr>\n",
       "      <th>12347</th>\n",
       "      <td>5633.32</td>\n",
       "    </tr>\n",
       "    <tr>\n",
       "      <th>12348</th>\n",
       "      <td>2019.40</td>\n",
       "    </tr>\n",
       "    <tr>\n",
       "      <th>12349</th>\n",
       "      <td>4428.69</td>\n",
       "    </tr>\n",
       "    <tr>\n",
       "      <th>12350</th>\n",
       "      <td>334.40</td>\n",
       "    </tr>\n",
       "  </tbody>\n",
       "</table>\n",
       "</div>"
      ],
      "text/plain": [
       "             Monetary\n",
       "Customer ID          \n",
       "12346        77556.46\n",
       "12347         5633.32\n",
       "12348         2019.40\n",
       "12349         4428.69\n",
       "12350          334.40"
      ]
     },
     "execution_count": 13,
     "metadata": {},
     "output_type": "execute_result"
    }
   ],
   "source": [
    "# Grouping and sum up total prices according to each Customer ID\n",
    "monetary_df = df.groupby(\"Customer ID\").agg({\"TotalPrice\":\"sum\"})\n",
    "# Rename Total Price column as Monetary\n",
    "monetary_df.rename(columns={\"TotalPrice\":\"Monetary\"}, inplace=True)\n",
    "monetary_df.head()"
   ]
  },
  {
   "cell_type": "markdown",
   "metadata": {
    "papermill": {
     "duration": 0.028193,
     "end_time": "2021-03-19T13:38:16.602820",
     "exception": false,
     "start_time": "2021-03-19T13:38:16.574627",
     "status": "completed"
    },
    "tags": []
   },
   "source": [
    "## 4.4 Concatenate Recency,Frequency and Monetary"
   ]
  },
  {
   "cell_type": "code",
   "execution_count": 14,
   "metadata": {
    "execution": {
     "iopub.execute_input": "2021-03-19T13:38:16.674434Z",
     "iopub.status.busy": "2021-03-19T13:38:16.673546Z",
     "iopub.status.idle": "2021-03-19T13:38:16.678854Z",
     "shell.execute_reply": "2021-03-19T13:38:16.678156Z"
    },
    "papermill": {
     "duration": 0.047712,
     "end_time": "2021-03-19T13:38:16.678982",
     "exception": false,
     "start_time": "2021-03-19T13:38:16.631270",
     "status": "completed"
    },
    "tags": []
   },
   "outputs": [
    {
     "data": {
      "text/html": [
       "<div>\n",
       "<style scoped>\n",
       "    .dataframe tbody tr th:only-of-type {\n",
       "        vertical-align: middle;\n",
       "    }\n",
       "\n",
       "    .dataframe tbody tr th {\n",
       "        vertical-align: top;\n",
       "    }\n",
       "\n",
       "    .dataframe thead th {\n",
       "        text-align: right;\n",
       "    }\n",
       "</style>\n",
       "<table border=\"1\" class=\"dataframe\">\n",
       "  <thead>\n",
       "    <tr style=\"text-align: right;\">\n",
       "      <th></th>\n",
       "      <th>Recency</th>\n",
       "      <th>Frequency</th>\n",
       "      <th>Monetary</th>\n",
       "    </tr>\n",
       "    <tr>\n",
       "      <th>Customer ID</th>\n",
       "      <th></th>\n",
       "      <th></th>\n",
       "      <th></th>\n",
       "    </tr>\n",
       "  </thead>\n",
       "  <tbody>\n",
       "    <tr>\n",
       "      <th>12346</th>\n",
       "      <td>324</td>\n",
       "      <td>12</td>\n",
       "      <td>77556.46</td>\n",
       "    </tr>\n",
       "    <tr>\n",
       "      <th>12347</th>\n",
       "      <td>1</td>\n",
       "      <td>8</td>\n",
       "      <td>5633.32</td>\n",
       "    </tr>\n",
       "    <tr>\n",
       "      <th>12348</th>\n",
       "      <td>74</td>\n",
       "      <td>5</td>\n",
       "      <td>2019.40</td>\n",
       "    </tr>\n",
       "    <tr>\n",
       "      <th>12349</th>\n",
       "      <td>17</td>\n",
       "      <td>4</td>\n",
       "      <td>4428.69</td>\n",
       "    </tr>\n",
       "    <tr>\n",
       "      <th>12350</th>\n",
       "      <td>309</td>\n",
       "      <td>1</td>\n",
       "      <td>334.40</td>\n",
       "    </tr>\n",
       "  </tbody>\n",
       "</table>\n",
       "</div>"
      ],
      "text/plain": [
       "             Recency  Frequency  Monetary\n",
       "Customer ID                              \n",
       "12346            324         12  77556.46\n",
       "12347              1          8   5633.32\n",
       "12348             74          5   2019.40\n",
       "12349             17          4   4428.69\n",
       "12350            309          1    334.40"
      ]
     },
     "execution_count": 14,
     "metadata": {},
     "output_type": "execute_result"
    }
   ],
   "source": [
    "rfm = pd.concat([recency_df, freq_df, monetary_df],  axis=1)\n",
    "rfm.head()"
   ]
  },
  {
   "cell_type": "markdown",
   "metadata": {
    "papermill": {
     "duration": 0.028315,
     "end_time": "2021-03-19T13:38:16.736895",
     "exception": false,
     "start_time": "2021-03-19T13:38:16.708580",
     "status": "completed"
    },
    "tags": []
   },
   "source": [
    "# 5. Scoring of Recency, Frequency and Monetary Values"
   ]
  },
  {
   "cell_type": "code",
   "execution_count": 15,
   "metadata": {
    "execution": {
     "iopub.execute_input": "2021-03-19T13:38:16.804658Z",
     "iopub.status.busy": "2021-03-19T13:38:16.803882Z",
     "iopub.status.idle": "2021-03-19T13:38:16.825745Z",
     "shell.execute_reply": "2021-03-19T13:38:16.825106Z"
    },
    "papermill": {
     "duration": 0.059941,
     "end_time": "2021-03-19T13:38:16.825901",
     "exception": false,
     "start_time": "2021-03-19T13:38:16.765960",
     "status": "completed"
    },
    "tags": []
   },
   "outputs": [],
   "source": [
    "# Dividing the recency values into recency scores such that the lowest recency value as 5 and the highest as 1\n",
    "rfm[\"RecencyScore\"] = pd.qcut(rfm[\"Recency\"], 5, labels = [5, 4 , 3, 2, 1]) \n",
    "# Dividing the frequency values into frequency scores such that the lowest frequency value as 1 and the highest as 5\n",
    "rfm[\"FrequencyScore\"]= pd.qcut(rfm[\"Frequency\"].rank(method=\"first\"),5, labels=[1,2,3,4,5])\n",
    "# Dividing the monetary values into monetary scores such that the lowest monetary value as 1 and the highest as 5\n",
    "rfm[\"MonetaryScore\"] = pd.qcut(rfm['Monetary'], 5, labels = [1, 2, 3, 4, 5])\n"
   ]
  },
  {
   "cell_type": "code",
   "execution_count": 16,
   "metadata": {
    "execution": {
     "iopub.execute_input": "2021-03-19T13:38:16.905978Z",
     "iopub.status.busy": "2021-03-19T13:38:16.898491Z",
     "iopub.status.idle": "2021-03-19T13:38:16.922073Z",
     "shell.execute_reply": "2021-03-19T13:38:16.921215Z"
    },
    "papermill": {
     "duration": 0.06634,
     "end_time": "2021-03-19T13:38:16.922212",
     "exception": false,
     "start_time": "2021-03-19T13:38:16.855872",
     "status": "completed"
    },
    "tags": []
   },
   "outputs": [],
   "source": [
    "# Combining Recency, Frequency, and Monetary Scores in a string format\n",
    "rfm[\"RFM_SCORE\"] = (rfm['RecencyScore'].astype(str) + \n",
    "                    rfm['FrequencyScore'].astype(str) + \n",
    "                    rfm['MonetaryScore'].astype(str))"
   ]
  },
  {
   "cell_type": "code",
   "execution_count": 17,
   "metadata": {
    "execution": {
     "iopub.execute_input": "2021-03-19T13:38:17.007475Z",
     "iopub.status.busy": "2021-03-19T13:38:16.991744Z",
     "iopub.status.idle": "2021-03-19T13:38:17.011809Z",
     "shell.execute_reply": "2021-03-19T13:38:17.011155Z"
    },
    "papermill": {
     "duration": 0.058006,
     "end_time": "2021-03-19T13:38:17.011945",
     "exception": false,
     "start_time": "2021-03-19T13:38:16.953939",
     "status": "completed"
    },
    "tags": []
   },
   "outputs": [
    {
     "data": {
      "text/html": [
       "<div>\n",
       "<style scoped>\n",
       "    .dataframe tbody tr th:only-of-type {\n",
       "        vertical-align: middle;\n",
       "    }\n",
       "\n",
       "    .dataframe tbody tr th {\n",
       "        vertical-align: top;\n",
       "    }\n",
       "\n",
       "    .dataframe thead th {\n",
       "        text-align: right;\n",
       "    }\n",
       "</style>\n",
       "<table border=\"1\" class=\"dataframe\">\n",
       "  <thead>\n",
       "    <tr style=\"text-align: right;\">\n",
       "      <th></th>\n",
       "      <th>Recency</th>\n",
       "      <th>Frequency</th>\n",
       "      <th>Monetary</th>\n",
       "      <th>RecencyScore</th>\n",
       "      <th>FrequencyScore</th>\n",
       "      <th>MonetaryScore</th>\n",
       "      <th>RFM_SCORE</th>\n",
       "    </tr>\n",
       "    <tr>\n",
       "      <th>Customer ID</th>\n",
       "      <th></th>\n",
       "      <th></th>\n",
       "      <th></th>\n",
       "      <th></th>\n",
       "      <th></th>\n",
       "      <th></th>\n",
       "      <th></th>\n",
       "    </tr>\n",
       "  </thead>\n",
       "  <tbody>\n",
       "    <tr>\n",
       "      <th>12362</th>\n",
       "      <td>2</td>\n",
       "      <td>11</td>\n",
       "      <td>5356.23</td>\n",
       "      <td>5</td>\n",
       "      <td>5</td>\n",
       "      <td>5</td>\n",
       "      <td>555</td>\n",
       "    </tr>\n",
       "    <tr>\n",
       "      <th>12395</th>\n",
       "      <td>18</td>\n",
       "      <td>15</td>\n",
       "      <td>5067.27</td>\n",
       "      <td>5</td>\n",
       "      <td>5</td>\n",
       "      <td>5</td>\n",
       "      <td>555</td>\n",
       "    </tr>\n",
       "    <tr>\n",
       "      <th>12417</th>\n",
       "      <td>2</td>\n",
       "      <td>20</td>\n",
       "      <td>6816.91</td>\n",
       "      <td>5</td>\n",
       "      <td>5</td>\n",
       "      <td>5</td>\n",
       "      <td>555</td>\n",
       "    </tr>\n",
       "    <tr>\n",
       "      <th>12433</th>\n",
       "      <td>-1</td>\n",
       "      <td>10</td>\n",
       "      <td>20581.26</td>\n",
       "      <td>5</td>\n",
       "      <td>5</td>\n",
       "      <td>5</td>\n",
       "      <td>555</td>\n",
       "    </tr>\n",
       "    <tr>\n",
       "      <th>12437</th>\n",
       "      <td>0</td>\n",
       "      <td>39</td>\n",
       "      <td>12683.40</td>\n",
       "      <td>5</td>\n",
       "      <td>5</td>\n",
       "      <td>5</td>\n",
       "      <td>555</td>\n",
       "    </tr>\n",
       "  </tbody>\n",
       "</table>\n",
       "</div>"
      ],
      "text/plain": [
       "             Recency  Frequency  Monetary RecencyScore FrequencyScore  \\\n",
       "Customer ID                                                             \n",
       "12362              2         11   5356.23            5              5   \n",
       "12395             18         15   5067.27            5              5   \n",
       "12417              2         20   6816.91            5              5   \n",
       "12433             -1         10  20581.26            5              5   \n",
       "12437              0         39  12683.40            5              5   \n",
       "\n",
       "            MonetaryScore RFM_SCORE  \n",
       "Customer ID                          \n",
       "12362                   5       555  \n",
       "12395                   5       555  \n",
       "12417                   5       555  \n",
       "12433                   5       555  \n",
       "12437                   5       555  "
      ]
     },
     "execution_count": 17,
     "metadata": {},
     "output_type": "execute_result"
    }
   ],
   "source": [
    "# Customers with best scores\n",
    "rfm[rfm[\"RFM_SCORE\"]==\"555\"].head()"
   ]
  },
  {
   "cell_type": "code",
   "execution_count": 18,
   "metadata": {
    "execution": {
     "iopub.execute_input": "2021-03-19T13:38:17.077661Z",
     "iopub.status.busy": "2021-03-19T13:38:17.076791Z",
     "iopub.status.idle": "2021-03-19T13:38:17.096406Z",
     "shell.execute_reply": "2021-03-19T13:38:17.096954Z"
    },
    "papermill": {
     "duration": 0.054755,
     "end_time": "2021-03-19T13:38:17.097143",
     "exception": false,
     "start_time": "2021-03-19T13:38:17.042388",
     "status": "completed"
    },
    "tags": []
   },
   "outputs": [
    {
     "data": {
      "text/html": [
       "<div>\n",
       "<style scoped>\n",
       "    .dataframe tbody tr th:only-of-type {\n",
       "        vertical-align: middle;\n",
       "    }\n",
       "\n",
       "    .dataframe tbody tr th {\n",
       "        vertical-align: top;\n",
       "    }\n",
       "\n",
       "    .dataframe thead th {\n",
       "        text-align: right;\n",
       "    }\n",
       "</style>\n",
       "<table border=\"1\" class=\"dataframe\">\n",
       "  <thead>\n",
       "    <tr style=\"text-align: right;\">\n",
       "      <th></th>\n",
       "      <th>Recency</th>\n",
       "      <th>Frequency</th>\n",
       "      <th>Monetary</th>\n",
       "      <th>RecencyScore</th>\n",
       "      <th>FrequencyScore</th>\n",
       "      <th>MonetaryScore</th>\n",
       "      <th>RFM_SCORE</th>\n",
       "    </tr>\n",
       "    <tr>\n",
       "      <th>Customer ID</th>\n",
       "      <th></th>\n",
       "      <th></th>\n",
       "      <th></th>\n",
       "      <th></th>\n",
       "      <th></th>\n",
       "      <th></th>\n",
       "      <th></th>\n",
       "    </tr>\n",
       "  </thead>\n",
       "  <tbody>\n",
       "    <tr>\n",
       "      <th>12387</th>\n",
       "      <td>414</td>\n",
       "      <td>1</td>\n",
       "      <td>143.94</td>\n",
       "      <td>1</td>\n",
       "      <td>1</td>\n",
       "      <td>1</td>\n",
       "      <td>111</td>\n",
       "    </tr>\n",
       "    <tr>\n",
       "      <th>12392</th>\n",
       "      <td>590</td>\n",
       "      <td>1</td>\n",
       "      <td>234.75</td>\n",
       "      <td>1</td>\n",
       "      <td>1</td>\n",
       "      <td>1</td>\n",
       "      <td>111</td>\n",
       "    </tr>\n",
       "    <tr>\n",
       "      <th>12400</th>\n",
       "      <td>413</td>\n",
       "      <td>1</td>\n",
       "      <td>205.25</td>\n",
       "      <td>1</td>\n",
       "      <td>1</td>\n",
       "      <td>1</td>\n",
       "      <td>111</td>\n",
       "    </tr>\n",
       "    <tr>\n",
       "      <th>12404</th>\n",
       "      <td>681</td>\n",
       "      <td>1</td>\n",
       "      <td>63.24</td>\n",
       "      <td>1</td>\n",
       "      <td>1</td>\n",
       "      <td>1</td>\n",
       "      <td>111</td>\n",
       "    </tr>\n",
       "    <tr>\n",
       "      <th>12416</th>\n",
       "      <td>655</td>\n",
       "      <td>1</td>\n",
       "      <td>202.56</td>\n",
       "      <td>1</td>\n",
       "      <td>1</td>\n",
       "      <td>1</td>\n",
       "      <td>111</td>\n",
       "    </tr>\n",
       "  </tbody>\n",
       "</table>\n",
       "</div>"
      ],
      "text/plain": [
       "             Recency  Frequency  Monetary RecencyScore FrequencyScore  \\\n",
       "Customer ID                                                             \n",
       "12387            414          1    143.94            1              1   \n",
       "12392            590          1    234.75            1              1   \n",
       "12400            413          1    205.25            1              1   \n",
       "12404            681          1     63.24            1              1   \n",
       "12416            655          1    202.56            1              1   \n",
       "\n",
       "            MonetaryScore RFM_SCORE  \n",
       "Customer ID                          \n",
       "12387                   1       111  \n",
       "12392                   1       111  \n",
       "12400                   1       111  \n",
       "12404                   1       111  \n",
       "12416                   1       111  "
      ]
     },
     "execution_count": 18,
     "metadata": {},
     "output_type": "execute_result"
    }
   ],
   "source": [
    "# Customers with worst scores\n",
    "rfm[rfm[\"RFM_SCORE\"]==\"111\"].head()"
   ]
  },
  {
   "cell_type": "markdown",
   "metadata": {
    "papermill": {
     "duration": 0.030182,
     "end_time": "2021-03-19T13:38:17.158742",
     "exception": false,
     "start_time": "2021-03-19T13:38:17.128560",
     "status": "completed"
    },
    "tags": []
   },
   "source": [
    "# 6. Customer Segmentation"
   ]
  },
  {
   "cell_type": "code",
   "execution_count": 19,
   "metadata": {
    "execution": {
     "iopub.execute_input": "2021-03-19T13:38:17.228329Z",
     "iopub.status.busy": "2021-03-19T13:38:17.227538Z",
     "iopub.status.idle": "2021-03-19T13:38:17.231135Z",
     "shell.execute_reply": "2021-03-19T13:38:17.230451Z"
    },
    "papermill": {
     "duration": 0.041627,
     "end_time": "2021-03-19T13:38:17.231271",
     "exception": false,
     "start_time": "2021-03-19T13:38:17.189644",
     "status": "completed"
    },
    "tags": []
   },
   "outputs": [],
   "source": [
    "# Mapping of segments according to recency and frequency scores of customers\n",
    "seg_map = {\n",
    "    r'[1-2][1-2]': 'Hibernating',\n",
    "    r'[1-2][3-4]': 'At Risk',\n",
    "    r'[1-2]5': 'Can\\'t Loose',\n",
    "    r'3[1-2]': 'About to Sleep',\n",
    "    r'33': 'Need Attention',\n",
    "    r'[3-4][4-5]': 'Loyal Customers',\n",
    "    r'41': 'Promising',\n",
    "    r'51': 'New Customers',\n",
    "    r'[4-5][2-3]': 'Potential Loyalists',\n",
    "    r'5[4-5]': 'Champions'\n",
    "}"
   ]
  },
  {
   "cell_type": "code",
   "execution_count": 20,
   "metadata": {
    "execution": {
     "iopub.execute_input": "2021-03-19T13:38:17.297708Z",
     "iopub.status.busy": "2021-03-19T13:38:17.296597Z",
     "iopub.status.idle": "2021-03-19T13:38:17.447176Z",
     "shell.execute_reply": "2021-03-19T13:38:17.447838Z"
    },
    "papermill": {
     "duration": 0.18587,
     "end_time": "2021-03-19T13:38:17.448015",
     "exception": false,
     "start_time": "2021-03-19T13:38:17.262145",
     "status": "completed"
    },
    "tags": []
   },
   "outputs": [],
   "source": [
    "# Recency and Frequency scores are turned into string format, combined and assigned to Segment\n",
    "rfm['Segment'] = rfm['RecencyScore'].astype(str) + rfm['FrequencyScore'].astype(str)\n",
    "# Segments are changed with the definitons of seg_map\n",
    "rfm['Segment'] = rfm['Segment'].replace(seg_map, regex=True)"
   ]
  },
  {
   "cell_type": "code",
   "execution_count": 21,
   "metadata": {
    "execution": {
     "iopub.execute_input": "2021-03-19T13:38:17.514440Z",
     "iopub.status.busy": "2021-03-19T13:38:17.513668Z",
     "iopub.status.idle": "2021-03-19T13:38:17.529338Z",
     "shell.execute_reply": "2021-03-19T13:38:17.528677Z"
    },
    "papermill": {
     "duration": 0.050584,
     "end_time": "2021-03-19T13:38:17.529464",
     "exception": false,
     "start_time": "2021-03-19T13:38:17.478880",
     "status": "completed"
    },
    "tags": []
   },
   "outputs": [
    {
     "data": {
      "text/html": [
       "<div>\n",
       "<style scoped>\n",
       "    .dataframe tbody tr th:only-of-type {\n",
       "        vertical-align: middle;\n",
       "    }\n",
       "\n",
       "    .dataframe tbody tr th {\n",
       "        vertical-align: top;\n",
       "    }\n",
       "\n",
       "    .dataframe thead th {\n",
       "        text-align: right;\n",
       "    }\n",
       "</style>\n",
       "<table border=\"1\" class=\"dataframe\">\n",
       "  <thead>\n",
       "    <tr style=\"text-align: right;\">\n",
       "      <th></th>\n",
       "      <th>Recency</th>\n",
       "      <th>Frequency</th>\n",
       "      <th>Monetary</th>\n",
       "      <th>RecencyScore</th>\n",
       "      <th>FrequencyScore</th>\n",
       "      <th>MonetaryScore</th>\n",
       "      <th>RFM_SCORE</th>\n",
       "      <th>Segment</th>\n",
       "    </tr>\n",
       "    <tr>\n",
       "      <th>Customer ID</th>\n",
       "      <th></th>\n",
       "      <th></th>\n",
       "      <th></th>\n",
       "      <th></th>\n",
       "      <th></th>\n",
       "      <th></th>\n",
       "      <th></th>\n",
       "      <th></th>\n",
       "    </tr>\n",
       "  </thead>\n",
       "  <tbody>\n",
       "    <tr>\n",
       "      <th>12346</th>\n",
       "      <td>324</td>\n",
       "      <td>12</td>\n",
       "      <td>77556.46</td>\n",
       "      <td>2</td>\n",
       "      <td>5</td>\n",
       "      <td>5</td>\n",
       "      <td>255</td>\n",
       "      <td>Can't Loose</td>\n",
       "    </tr>\n",
       "    <tr>\n",
       "      <th>12347</th>\n",
       "      <td>1</td>\n",
       "      <td>8</td>\n",
       "      <td>5633.32</td>\n",
       "      <td>5</td>\n",
       "      <td>4</td>\n",
       "      <td>5</td>\n",
       "      <td>545</td>\n",
       "      <td>Champions</td>\n",
       "    </tr>\n",
       "    <tr>\n",
       "      <th>12348</th>\n",
       "      <td>74</td>\n",
       "      <td>5</td>\n",
       "      <td>2019.40</td>\n",
       "      <td>3</td>\n",
       "      <td>4</td>\n",
       "      <td>4</td>\n",
       "      <td>344</td>\n",
       "      <td>Loyal Customers</td>\n",
       "    </tr>\n",
       "    <tr>\n",
       "      <th>12349</th>\n",
       "      <td>17</td>\n",
       "      <td>4</td>\n",
       "      <td>4428.69</td>\n",
       "      <td>5</td>\n",
       "      <td>3</td>\n",
       "      <td>5</td>\n",
       "      <td>535</td>\n",
       "      <td>Potential Loyalists</td>\n",
       "    </tr>\n",
       "    <tr>\n",
       "      <th>12350</th>\n",
       "      <td>309</td>\n",
       "      <td>1</td>\n",
       "      <td>334.40</td>\n",
       "      <td>2</td>\n",
       "      <td>1</td>\n",
       "      <td>2</td>\n",
       "      <td>212</td>\n",
       "      <td>Hibernating</td>\n",
       "    </tr>\n",
       "  </tbody>\n",
       "</table>\n",
       "</div>"
      ],
      "text/plain": [
       "             Recency  Frequency  Monetary RecencyScore FrequencyScore  \\\n",
       "Customer ID                                                             \n",
       "12346            324         12  77556.46            2              5   \n",
       "12347              1          8   5633.32            5              4   \n",
       "12348             74          5   2019.40            3              4   \n",
       "12349             17          4   4428.69            5              3   \n",
       "12350            309          1    334.40            2              1   \n",
       "\n",
       "            MonetaryScore RFM_SCORE              Segment  \n",
       "Customer ID                                               \n",
       "12346                   5       255          Can't Loose  \n",
       "12347                   5       545            Champions  \n",
       "12348                   4       344      Loyal Customers  \n",
       "12349                   5       535  Potential Loyalists  \n",
       "12350                   2       212          Hibernating  "
      ]
     },
     "execution_count": 21,
     "metadata": {},
     "output_type": "execute_result"
    }
   ],
   "source": [
    "rfm.head()"
   ]
  },
  {
   "cell_type": "code",
   "execution_count": 22,
   "metadata": {
    "execution": {
     "iopub.execute_input": "2021-03-19T13:38:17.596749Z",
     "iopub.status.busy": "2021-03-19T13:38:17.596012Z",
     "iopub.status.idle": "2021-03-19T13:38:17.632903Z",
     "shell.execute_reply": "2021-03-19T13:38:17.633430Z"
    },
    "papermill": {
     "duration": 0.072491,
     "end_time": "2021-03-19T13:38:17.633599",
     "exception": false,
     "start_time": "2021-03-19T13:38:17.561108",
     "status": "completed"
    },
    "tags": []
   },
   "outputs": [
    {
     "data": {
      "text/html": [
       "<div>\n",
       "<style scoped>\n",
       "    .dataframe tbody tr th:only-of-type {\n",
       "        vertical-align: middle;\n",
       "    }\n",
       "\n",
       "    .dataframe tbody tr th {\n",
       "        vertical-align: top;\n",
       "    }\n",
       "\n",
       "    .dataframe thead tr th {\n",
       "        text-align: left;\n",
       "    }\n",
       "\n",
       "    .dataframe thead tr:last-of-type th {\n",
       "        text-align: right;\n",
       "    }\n",
       "</style>\n",
       "<table border=\"1\" class=\"dataframe\">\n",
       "  <thead>\n",
       "    <tr>\n",
       "      <th></th>\n",
       "      <th colspan=\"3\" halign=\"left\">Recency</th>\n",
       "      <th colspan=\"3\" halign=\"left\">Frequency</th>\n",
       "      <th colspan=\"3\" halign=\"left\">Monetary</th>\n",
       "    </tr>\n",
       "    <tr>\n",
       "      <th></th>\n",
       "      <th>mean</th>\n",
       "      <th>median</th>\n",
       "      <th>count</th>\n",
       "      <th>mean</th>\n",
       "      <th>median</th>\n",
       "      <th>count</th>\n",
       "      <th>mean</th>\n",
       "      <th>median</th>\n",
       "      <th>count</th>\n",
       "    </tr>\n",
       "    <tr>\n",
       "      <th>Segment</th>\n",
       "      <th></th>\n",
       "      <th></th>\n",
       "      <th></th>\n",
       "      <th></th>\n",
       "      <th></th>\n",
       "      <th></th>\n",
       "      <th></th>\n",
       "      <th></th>\n",
       "      <th></th>\n",
       "    </tr>\n",
       "  </thead>\n",
       "  <tbody>\n",
       "    <tr>\n",
       "      <th>About to Sleep</th>\n",
       "      <td>105.589147</td>\n",
       "      <td>92.0</td>\n",
       "      <td>387</td>\n",
       "      <td>1.359173</td>\n",
       "      <td>1.0</td>\n",
       "      <td>387</td>\n",
       "      <td>534.749749</td>\n",
       "      <td>371.010</td>\n",
       "      <td>387</td>\n",
       "    </tr>\n",
       "    <tr>\n",
       "      <th>At Risk</th>\n",
       "      <td>371.632000</td>\n",
       "      <td>375.0</td>\n",
       "      <td>750</td>\n",
       "      <td>3.898667</td>\n",
       "      <td>4.0</td>\n",
       "      <td>750</td>\n",
       "      <td>1379.649893</td>\n",
       "      <td>961.295</td>\n",
       "      <td>750</td>\n",
       "    </tr>\n",
       "    <tr>\n",
       "      <th>Can't Loose</th>\n",
       "      <td>332.861111</td>\n",
       "      <td>324.5</td>\n",
       "      <td>72</td>\n",
       "      <td>15.694444</td>\n",
       "      <td>11.0</td>\n",
       "      <td>72</td>\n",
       "      <td>8278.154333</td>\n",
       "      <td>3870.535</td>\n",
       "      <td>72</td>\n",
       "    </tr>\n",
       "    <tr>\n",
       "      <th>Champions</th>\n",
       "      <td>7.255294</td>\n",
       "      <td>7.0</td>\n",
       "      <td>850</td>\n",
       "      <td>19.154118</td>\n",
       "      <td>11.5</td>\n",
       "      <td>850</td>\n",
       "      <td>10816.020971</td>\n",
       "      <td>4017.555</td>\n",
       "      <td>850</td>\n",
       "    </tr>\n",
       "    <tr>\n",
       "      <th>Hibernating</th>\n",
       "      <td>458.375575</td>\n",
       "      <td>434.0</td>\n",
       "      <td>1523</td>\n",
       "      <td>1.252791</td>\n",
       "      <td>1.0</td>\n",
       "      <td>1523</td>\n",
       "      <td>437.797546</td>\n",
       "      <td>285.110</td>\n",
       "      <td>1523</td>\n",
       "    </tr>\n",
       "    <tr>\n",
       "      <th>Loyal Customers</th>\n",
       "      <td>66.274390</td>\n",
       "      <td>52.0</td>\n",
       "      <td>1148</td>\n",
       "      <td>9.776132</td>\n",
       "      <td>8.0</td>\n",
       "      <td>1148</td>\n",
       "      <td>4196.920353</td>\n",
       "      <td>2601.895</td>\n",
       "      <td>1148</td>\n",
       "    </tr>\n",
       "    <tr>\n",
       "      <th>Need Attention</th>\n",
       "      <td>112.259259</td>\n",
       "      <td>105.0</td>\n",
       "      <td>270</td>\n",
       "      <td>3.148148</td>\n",
       "      <td>3.0</td>\n",
       "      <td>270</td>\n",
       "      <td>1276.347556</td>\n",
       "      <td>974.970</td>\n",
       "      <td>270</td>\n",
       "    </tr>\n",
       "    <tr>\n",
       "      <th>New Customers</th>\n",
       "      <td>9.368421</td>\n",
       "      <td>9.0</td>\n",
       "      <td>57</td>\n",
       "      <td>1.000000</td>\n",
       "      <td>1.0</td>\n",
       "      <td>57</td>\n",
       "      <td>350.007719</td>\n",
       "      <td>255.400</td>\n",
       "      <td>57</td>\n",
       "    </tr>\n",
       "    <tr>\n",
       "      <th>Potential Loyalists</th>\n",
       "      <td>24.235294</td>\n",
       "      <td>22.0</td>\n",
       "      <td>714</td>\n",
       "      <td>2.588235</td>\n",
       "      <td>3.0</td>\n",
       "      <td>714</td>\n",
       "      <td>1158.276598</td>\n",
       "      <td>692.520</td>\n",
       "      <td>714</td>\n",
       "    </tr>\n",
       "    <tr>\n",
       "      <th>Promising</th>\n",
       "      <td>37.281818</td>\n",
       "      <td>36.5</td>\n",
       "      <td>110</td>\n",
       "      <td>1.000000</td>\n",
       "      <td>1.0</td>\n",
       "      <td>110</td>\n",
       "      <td>324.497000</td>\n",
       "      <td>221.620</td>\n",
       "      <td>110</td>\n",
       "    </tr>\n",
       "  </tbody>\n",
       "</table>\n",
       "</div>"
      ],
      "text/plain": [
       "                        Recency               Frequency               \\\n",
       "                           mean median count       mean median count   \n",
       "Segment                                                                \n",
       "About to Sleep       105.589147   92.0   387   1.359173    1.0   387   \n",
       "At Risk              371.632000  375.0   750   3.898667    4.0   750   \n",
       "Can't Loose          332.861111  324.5    72  15.694444   11.0    72   \n",
       "Champions              7.255294    7.0   850  19.154118   11.5   850   \n",
       "Hibernating          458.375575  434.0  1523   1.252791    1.0  1523   \n",
       "Loyal Customers       66.274390   52.0  1148   9.776132    8.0  1148   \n",
       "Need Attention       112.259259  105.0   270   3.148148    3.0   270   \n",
       "New Customers          9.368421    9.0    57   1.000000    1.0    57   \n",
       "Potential Loyalists   24.235294   22.0   714   2.588235    3.0   714   \n",
       "Promising             37.281818   36.5   110   1.000000    1.0   110   \n",
       "\n",
       "                         Monetary                  \n",
       "                             mean    median count  \n",
       "Segment                                            \n",
       "About to Sleep         534.749749   371.010   387  \n",
       "At Risk               1379.649893   961.295   750  \n",
       "Can't Loose           8278.154333  3870.535    72  \n",
       "Champions            10816.020971  4017.555   850  \n",
       "Hibernating            437.797546   285.110  1523  \n",
       "Loyal Customers       4196.920353  2601.895  1148  \n",
       "Need Attention        1276.347556   974.970   270  \n",
       "New Customers          350.007719   255.400    57  \n",
       "Potential Loyalists   1158.276598   692.520   714  \n",
       "Promising              324.497000   221.620   110  "
      ]
     },
     "execution_count": 22,
     "metadata": {},
     "output_type": "execute_result"
    }
   ],
   "source": [
    "# Mean, median, count statistics of different segments\n",
    "rfm[[\"Segment\",\"Recency\",\"Frequency\", \"Monetary\"]].groupby(\"Segment\").agg([\"mean\",\"median\",\"count\"])"
   ]
  },
  {
   "cell_type": "markdown",
   "metadata": {
    "papermill": {
     "duration": 0.031889,
     "end_time": "2021-03-19T13:38:17.697911",
     "exception": false,
     "start_time": "2021-03-19T13:38:17.666022",
     "status": "completed"
    },
    "tags": []
   },
   "source": [
    "Several marketing strategies can be determined for different customer segments. I have determined 3 strategies for different customer segments. These can be diversified and customers can be monitored more closely.\n",
    "\n",
    "\n",
    "\n",
    "\n",
    "__At Risk__\n",
    "\n",
    "Those in this group last shopping an average of 371 days ago. The group median was 375.0, so there was not much deviation from the mean. Therefore, it can be said that this number is consistent throughout the group. On average, 3.89 units of shopping were made and 1379.64 units of payments were made. The time interval that has passed since the last purchase of this group is very high, so customers may be lost. The reasons that may cause these people not to shop for so long should be focused on. There may be a case of customer dissatisfaction. The shopping experience of the customer can be examined by sending a survey via mail. If there is no dissatisfaction, then the person is reminded. Options such as discount codes may be offered to encourage re-shopping.\n",
    "\n",
    "__Need Attention__\n",
    "\n",
    "\n",
    "People in this group last shopping, on average, 112 days ago. The group median is 105, so there is not much deviation from the mean. Hence, this number is consistent across the group. On average, 3.14 units of shopping were made and 1276.34 units of payment were made. This group is less risky than the At-Risk group. The last shopping date is relatively close. Special offers can be made from products whose consumption is faster than among the products that those customers shop. By doing this, the average visit time of customers can be shortened.\n",
    "\n",
    "__Potential Loyalists__\n",
    "\n",
    "Those in this group last shopping an average of 24 days ago. The group median is 22, so there is not much deviation from the mean. Hence, this number is consistent across the group. On average, 2.58 units were purchased and 1158.27 units were paid. People in this group can be included in the Loyal Customer group if supported. Therefore, they can be monitored closely and customer satisfaction can be increased with one-to-one phone calls. Apart from this, options such as free shipping can be offered to increase the average paid wages.\n"
   ]
  }
 ],
 "metadata": {
  "kernelspec": {
   "display_name": "Python 3",
   "language": "python",
   "name": "python3"
  },
  "language_info": {
   "codemirror_mode": {
    "name": "ipython",
    "version": 3
   },
   "file_extension": ".py",
   "mimetype": "text/x-python",
   "name": "python",
   "nbconvert_exporter": "python",
   "pygments_lexer": "ipython3",
   "version": "3.7.6"
  },
  "papermill": {
   "duration": 18.521031,
   "end_time": "2021-03-19T13:38:17.840196",
   "environment_variables": {},
   "exception": null,
   "input_path": "__notebook__.ipynb",
   "output_path": "__notebook__.ipynb",
   "parameters": {},
   "start_time": "2021-03-19T13:37:59.319165",
   "version": "2.1.0"
  }
 },
 "nbformat": 4,
 "nbformat_minor": 4
}
